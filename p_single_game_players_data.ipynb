{
  "nbformat": 4,
  "nbformat_minor": 0,
  "metadata": {
    "colab": {
      "provenance": [],
      "authorship_tag": "ABX9TyMSCmLHBJxPHVQL7fPOwHtx"
    },
    "kernelspec": {
      "name": "python3",
      "display_name": "Python 3"
    },
    "language_info": {
      "name": "python"
    }
  },
  "cells": [
    {
      "cell_type": "markdown",
      "source": [
        "# **擷取每場比賽球員數據**"
      ],
      "metadata": {
        "id": "NPF5qze9llQq"
      }
    },
    {
      "cell_type": "code",
      "source": [
        "# 2023/24 賽季\n",
        "import requests\n",
        "import pandas as pd\n",
        "\n",
        "def single_game_data(game_id):\n",
        "    parameters = {\n",
        "    \"id\": game_id,\n",
        "    'away_tab':'total',\n",
        "    'home_tab':'total'\n",
        "    }\n",
        "    response = requests.get(\"https://pleagueofficial.com/api/boxscore.php?\", params=parameters)\n",
        "\n",
        "    # print(response.json())\n",
        "\n",
        "    if response.status_code == 200:\n",
        "        json_data = response.json() # 將 API 響應轉換為 JSON 格式\n",
        "    # print(json_data['data'])\n",
        "\n",
        "        # 將 JSON 數據轉換為 DataFrame\n",
        "        df = pd.json_normalize(json_data['data']['home'])\n",
        "        df.to_csv(f'/content/game{game_id}.csv', index=False, encoding='utf-8')\n",
        "        df = pd.json_normalize(json_data['data']['away'])\n",
        "        df.to_csv(f'/content/game{game_id}.csv', index=False, encoding='utf-8')\n",
        "\n",
        "    else:\n",
        "        print(\"Failed to fetch data from the API. Status code:\", response.status_code)\n",
        "\n",
        "\n",
        "for i in range(423, 511):\n",
        "    single_game_data(i)\n",
        "\n",
        "print(\"Data saved successfully!!\")"
      ],
      "metadata": {
        "colab": {
          "base_uri": "https://localhost:8080/"
        },
        "id": "-hqzqb0TXP33",
        "outputId": "c3883f14-052f-4343-9dff-4e3a3ba8bfaf"
      },
      "execution_count": null,
      "outputs": [
        {
          "output_type": "stream",
          "name": "stdout",
          "text": [
            "Data saved successfully!!\n"
          ]
        }
      ]
    }
  ]
}