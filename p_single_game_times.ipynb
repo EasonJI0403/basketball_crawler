{
  "nbformat": 4,
  "nbformat_minor": 0,
  "metadata": {
    "colab": {
      "provenance": [],
      "authorship_tag": "ABX9TyNooTAkiN9xLfwPU3YH2qI7"
    },
    "kernelspec": {
      "name": "python3",
      "display_name": "Python 3"
    },
    "language_info": {
      "name": "python"
    }
  },
  "cells": [
    {
      "cell_type": "markdown",
      "source": [
        "# **擷取每場比賽時間、地點**"
      ],
      "metadata": {
        "id": "7YCcmD4tmTZR"
      }
    },
    {
      "cell_type": "code",
      "source": [
        "# 2023/24 賽季\n",
        "import requests\n",
        "from bs4 import BeautifulSoup\n",
        "import pandas as pd\n",
        "\n",
        "\n",
        "total = []\n",
        "\n",
        "def cat(game_id):\n",
        "\n",
        "  # game_id = 432\n",
        "  url = f'https://pleagueofficial.com/game/{game_id}'\n",
        "  # 模仿使用者使用發出一個請求到伺服器端請求網頁\n",
        "  headers = {'User-Agent':'Mozilla/5.0 (Windows NT 10.0; Win64; x64) AppleWebKit/537.36 (KHTML, like Gecko) Chrome/117.0.0.0 Safari/537.36'}\n",
        "  response = requests.get(url, headers=headers)\n",
        "  # print(response.text)\n",
        "\n",
        "  soup = BeautifulSoup(response.text, \"html.parser\")\n",
        "  # soup\n",
        "\n",
        "  # 球員數據標題欄\n",
        "  player_data_header = soup.find(\"span\", class_=\"fs14 text-white\")\n",
        "  # print(player_data_header.text)\n",
        "  player_header_text = \",\".join(player_data_header.stripped_strings)      # 為了將所有的標題內容串聯在一起，方便後續處理。\n",
        "  player_data_header_list = player_header_text.split(\",\") # 用逗號分隔\n",
        "\n",
        "  del player_data_header_list[0] # 刪除無用資料\n",
        "  player_data_header_list.insert(0, f\"G{game_id}\")\n",
        "  total.append(player_data_header_list)\n",
        "\n",
        "for i in range(423, 517):\n",
        "  cat(i)\n",
        "# print(total)\n",
        "\n",
        "df = pd.DataFrame(total)\n",
        "df.to_csv(f'/content/p_single_game_time_2023-24_data.xlsx.csv', index=False, encoding='utf-8')\n",
        "print(\"Data saved successfully!!\")"
      ],
      "metadata": {
        "colab": {
          "base_uri": "https://localhost:8080/"
        },
        "id": "qJm6uRc2Z8gb",
        "outputId": "ba590e6f-bc47-41e4-b657-ea620c9e8d33"
      },
      "execution_count": null,
      "outputs": [
        {
          "output_type": "stream",
          "name": "stdout",
          "text": [
            "Data saved successfully!!\n"
          ]
        }
      ]
    },
    {
      "cell_type": "code",
      "source": [],
      "metadata": {
        "id": "w2StQlohchmt"
      },
      "execution_count": null,
      "outputs": []
    }
  ]
}